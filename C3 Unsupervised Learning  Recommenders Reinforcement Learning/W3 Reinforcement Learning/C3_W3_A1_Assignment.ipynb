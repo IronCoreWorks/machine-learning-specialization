{
 "cells": [
  {
   "cell_type": "markdown",
   "metadata": {},
   "source": [
    "# Deep Q-Learning - Lunar Lander\n",
    "\n",
    "In this assignment, you will train an agent to land a lunar lander safely on a landing pad on the surface of the moon.\n",
    "\n",
    "\n",
    "# Outline\n",
    "- [ 1 - Import Packages <img align=\"Right\" src=\"./images/lunar_lander.gif\" width = 60% >](#1)\n",
    "- [ 2 - Hyperparameters](#2)\n",
    "- [ 3 - The Lunar Lander Environment](#3)\n",
    "  - [ 3.1 Action Space](#3.1)\n",
    "  - [ 3.2 Observation Space](#3.2)\n",
    "  - [ 3.3 Rewards](#3.3)\n",
    "  - [ 3.4 Episode Termination](#3.4)\n",
    "- [ 4 - Load the Environment](#4)\n",
    "- [ 5 - Interacting with the Gym Environment](#5)\n",
    "    - [ 5.1 Exploring the Environment's Dynamics](#5.1)\n",
    "- [ 6 - Deep Q-Learning](#6)\n",
    "  - [ 6.1 Target Network](#6.1)\n",
    "    - [ Exercise 1](#ex01)\n",
    "  - [ 6.2 Experience Replay](#6.2)\n",
    "- [ 7 - Deep Q-Learning Algorithm with Experience Replay](#7)\n",
    "  - [ Exercise 2](#ex02)\n",
    "- [ 8 - Update the Network Weights](#8)\n",
    "- [ 9 - Train the Agent](#9)\n",
    "- [ 10 - See the Trained Agent In Action](#10)\n",
    "- [ 11 - Congratulations!](#11)\n",
    "- [ 12 - References](#12)\n"
   ]
  },
  {
   "cell_type": "markdown",
   "metadata": {},
   "source": [
    "_**NOTE:** To prevent errors from the autograder, you are not allowed to edit or delete non-graded cells in this lab. Please also refrain from adding any new cells. \n",
    "**Once you have passed this assignment** and want to experiment with any of the non-graded code, you may follow the instructions at the bottom of this notebook._"
   ]
  },
  {
   "cell_type": "markdown",
   "metadata": {},
   "source": [
    "<a name=\"1\"></a>\n",
    "## 1 - Import Packages\n",
    "\n",
    "We'll make use of the following packages:\n",
    "- `numpy` is a package for scientific computing in python.\n",
    "- `deque` will be our data structure for our memory buffer.\n",
    "- `namedtuple` will be used to store the experience tuples.\n",
    "- The `gym` toolkit is a collection of environments that can be used to test reinforcement learning algorithms. We should note that in this notebook we are using `gym` version `0.24.0`.\n",
    "- `PIL.Image` and `pyvirtualdisplay` are needed to render the Lunar Lander environment.\n",
    "- We will use several modules from the `tensorflow.keras` framework for building deep learning models.\n",
    "- `utils` is a module that contains helper functions for this assignment. You do not need to modify the code in this file.\n",
    "\n",
    "Run the cell below to import all the necessary packages."
   ]
  },
  {
   "cell_type": "code",
   "execution_count": 1,
   "metadata": {
    "deletable": false,
    "editable": false,
    "id": "KYbOPKRtfQOr"
   },
   "outputs": [],
   "source": [
    "import time\n",
    "from collections import deque, namedtuple\n",
    "\n",
    "import gym\n",
    "import numpy as np\n",
    "import PIL.Image\n",
    "import tensorflow as tf\n",
    "import utils\n",
    "\n",
    "from pyvirtualdisplay import Display\n",
    "from tensorflow.keras import Sequential\n",
    "from tensorflow.keras.layers import Dense, Input\n",
    "from tensorflow.keras.losses import MSE\n",
    "from tensorflow.keras.optimizers import Adam"
   ]
  },
  {
   "cell_type": "code",
   "execution_count": 2,
   "metadata": {
    "deletable": false,
    "editable": false
   },
   "outputs": [],
   "source": [
    "# Set up a virtual display to render the Lunar Lander environment.\n",
    "Display(visible=0, size=(840, 480)).start();\n",
    "\n",
    "# Set the random seed for TensorFlow\n",
    "tf.random.set_seed(utils.SEED)"
   ]
  },
  {
   "cell_type": "markdown",
   "metadata": {},
   "source": [
    "<a name=\"2\"></a>\n",
    "## 2 - Hyperparameters\n",
    "\n",
    "Run the cell below to set the hyperparameters."
   ]
  },
  {
   "cell_type": "code",
   "execution_count": 3,
   "metadata": {
    "deletable": false,
    "editable": false
   },
   "outputs": [],
   "source": [
    "MEMORY_SIZE = 100_000     # size of memory buffer\n",
    "GAMMA = 0.995             # discount factor\n",
    "ALPHA = 1e-3              # learning rate  \n",
    "NUM_STEPS_FOR_UPDATE = 4  # perform a learning update every C time steps"
   ]
  },
  {
   "cell_type": "markdown",
   "metadata": {},
   "source": [
    "<a name=\"3\"></a>\n",
    "## 3 - The Lunar Lander Environment\n",
    "\n",
    "In this notebook we will be using [OpenAI's Gym Library](https://www.gymlibrary.dev/). The Gym library provides a wide variety of environments for reinforcement learning. To put it simply, an environment represents a problem or task to be solved. In this notebook, we will try to solve the Lunar Lander environment using reinforcement learning.\n",
    "\n",
    "The goal of the Lunar Lander environment is to land the lunar lander safely on the landing pad on the surface of the moon. The landing pad is designated by two flag poles and its center is at coordinates `(0,0)` but the lander is also allowed to land outside of the landing pad. The lander starts at the top center of the environment with a random initial force applied to its center of mass and has infinite fuel. The environment is considered solved if you get `200` points. \n",
    "\n",
    "<br>\n",
    "<br>\n",
    "<figure>\n",
    "  <img src = \"images/lunar_lander.gif\" width = 40%>\n",
    "      <figcaption style = \"text-align: center; font-style: italic\">Fig 1. Lunar Lander Environment.</figcaption>\n",
    "</figure>\n",
    "\n",
    "\n",
    "\n",
    "<a name=\"3.1\"></a>\n",
    "### 3.1 Action Space\n",
    "\n",
    "The agent has four discrete actions available:\n",
    "\n",
    "* Do nothing.\n",
    "* Fire right engine.\n",
    "* Fire main engine.\n",
    "* Fire left engine.\n",
    "\n",
    "Each action has a corresponding numerical value:\n",
    "\n",
    "```python\n",
    "Do nothing = 0\n",
    "Fire right engine = 1\n",
    "Fire main engine = 2\n",
    "Fire left engine = 3\n",
    "```\n",
    "\n",
    "<a name=\"3.2\"></a>\n",
    "### 3.2 Observation Space\n",
    "\n",
    "The agent's observation space consists of a state vector with 8 variables:\n",
    "\n",
    "* Its $(x,y)$ coordinates. The landing pad is always at coordinates $(0,0)$.\n",
    "* Its linear velocities $(\\dot x,\\dot y)$.\n",
    "* Its angle $\\theta$.\n",
    "* Its angular velocity $\\dot \\theta$.\n",
    "* Two booleans, $l$ and $r$, that represent whether each leg is in contact with the ground or not.\n",
    "\n",
    "<a name=\"3.3\"></a>\n",
    "### 3.3 Rewards\n",
    "\n",
    "After every step, a reward is granted. The total reward of an episode is the sum of the rewards for all the steps within that episode.\n",
    "\n",
    "For each step, the reward:\n",
    "- is increased/decreased the closer/further the lander is to the landing pad.\n",
    "- is increased/decreased the slower/faster the lander is moving.\n",
    "- is decreased the more the lander is tilted (angle not horizontal).\n",
    "- is increased by 10 points for each leg that is in contact with the ground.\n",
    "- is decreased by 0.03 points each frame a side engine is firing.\n",
    "- is decreased by 0.3 points each frame the main engine is firing.\n",
    "\n",
    "The episode receives an additional reward of -100 or +100 points for crashing or landing safely respectively.\n",
    "\n",
    "<a name=\"3.4\"></a>\n",
    "### 3.4 Episode Termination\n",
    "\n",
    "An episode ends (i.e the environment enters a terminal state) if:\n",
    "\n",
    "* The lunar lander crashes (i.e if the body of the lunar lander comes in contact with the surface of the moon).\n",
    "\n",
    "* The absolute value of the lander's $x$-coordinate is greater than 1 (i.e. it goes beyond the left or right border)\n",
    "\n",
    "You can check out the [Open AI Gym documentation](https://www.gymlibrary.dev/environments/box2d/lunar_lander/) for a full description of the environment. "
   ]
  },
  {
   "cell_type": "markdown",
   "metadata": {},
   "source": [
    "<a name=\"4\"></a>\n",
    "## 4 - Load the Environment\n",
    "\n",
    "We start by loading the `LunarLander-v2` environment from the `gym` library by using the `.make()` method. `LunarLander-v2` is the latest version of the Lunar Lander environment and you can read about its version history in the [Open AI Gym documentation](https://www.gymlibrary.dev/environments/box2d/lunar_lander/#version-history)."
   ]
  },
  {
   "cell_type": "code",
   "execution_count": 4,
   "metadata": {
    "deletable": false,
    "editable": false,
    "id": "ILVMYKewfR0n"
   },
   "outputs": [],
   "source": [
    "env = gym.make('LunarLander-v2')"
   ]
  },
  {
   "cell_type": "markdown",
   "metadata": {},
   "source": [
    "Once we load the environment we use the `.reset()` method to reset the environment to the initial state. The lander starts at the top center of the environment and we can render the first frame of the environment by using the `.render()` method."
   ]
  },
  {
   "cell_type": "code",
   "execution_count": 5,
   "metadata": {
    "deletable": false,
    "editable": false
   },
   "outputs": [
    {
     "data": {
      "image/png": "[encoded data removed]",
      "text/plain": [
       "<PIL.Image.Image image mode=RGB size=600x400 at 0x7F04A7E05E90>"
      ]
     },
     "execution_count": 5,
     "metadata": {},
     "output_type": "execute_result"
    }
   ],
   "source": [
    "env.reset()\n",
    "PIL.Image.fromarray(env.render(mode='rgb_array'))"
   ]
  },
  {
   "cell_type": "markdown",
   "metadata": {},
   "source": [
    "In order to build our neural network later on we need to know the size of the state vector and the number of valid actions. We can get this information from our environment by using the `.observation_space.shape` and `action_space.n` methods, respectively."
   ]
  },
  {
   "cell_type": "code",
   "execution_count": 6,
   "metadata": {
    "deletable": false,
    "editable": false,
    "id": "x3fdqdG4CUu2"
   },
   "outputs": [
    {
     "name": "stdout",
     "output_type": "stream",
     "text": [
      "State Shape: (8,)\n",
      "Number of actions: 4\n"
     ]
    }
   ],
   "source": [
    "state_size = env.observation_space.shape\n",
    "num_actions = env.action_space.n\n",
    "\n",
    "print('State Shape:', state_size)\n",
    "print('Number of actions:', num_actions)"
   ]
  },
  {
   "cell_type": "markdown",
   "metadata": {},
   "source": [
    "<a name=\"5\"></a>\n",
    "## 5 - Interacting with the Gym Environment\n",
    "\n",
    "The Gym library implements the standard “agent-environment loop” formalism:\n",
    "\n",
    "<br>\n",
    "<center>\n",
    "<video src = \"./videos/rl_formalism.m4v\" width=\"840\" height=\"480\" controls autoplay loop poster=\"./images/rl_formalism.png\"> </video>\n",
    "<figcaption style = \"text-align:center; font-style:italic\">Fig 2. Agent-environment Loop Formalism.</figcaption>\n",
    "</center>\n",
    "<br>\n",
    "\n",
    "In the standard “agent-environment loop” formalism, an agent interacts with the environment in discrete time steps $t=0,1,2,...$. At each time step $t$, the agent uses a policy $\\pi$ to select an action $A_t$ based on its observation of the environment's state $S_t$. The agent receives a numerical reward $R_t$ and on the next time step, moves to a new state $S_{t+1}$.\n",
    "\n",
    "<a name=\"5.1\"></a>\n",
    "### 5.1 Exploring the Environment's Dynamics\n",
    "\n",
    "In Open AI's Gym environments, we use the `.step()` method to run a single time step of the environment's dynamics. In the version of `gym` that we are using the `.step()` method accepts an action and returns four values:\n",
    "\n",
    "* `observation` (**object**): an environment-specific object representing your observation of the environment. In the Lunar Lander environment this corresponds to a numpy array containing the positions and velocities of the lander as described in section [3.2 Observation Space](#3.2).\n",
    "\n",
    "\n",
    "* `reward` (**float**): amount of reward returned as a result of taking the given action. In the Lunar Lander environment this corresponds to a float of type `numpy.float64` as described in section [3.3 Rewards](#3.3).\n",
    "\n",
    "\n",
    "* `done` (**boolean**): When done is `True`, it indicates the episode has terminated and it’s time to reset the environment. \n",
    "\n",
    "\n",
    "* `info` (**dictionary**): diagnostic information useful for debugging. We won't be using this variable in this notebook but it is shown here for completeness.\n",
    "\n",
    "To begin an episode, we need to reset the environment to an initial state. We do this by using the `.reset()` method. "
   ]
  },
  {
   "cell_type": "code",
   "execution_count": 7,
   "metadata": {
    "deletable": false,
    "editable": false
   },
   "outputs": [],
   "source": [
    "# Reset the environment and get the initial state.\n",
    "current_state = env.reset()"
   ]
  },
  {
   "cell_type": "markdown",
   "metadata": {},
   "source": [
    "Once the environment is reset, the agent can start taking actions in the environment by using the `.step()` method. Note that the agent can only take one action per time step. \n",
    "\n",
    "In the cell below you can select different actions and see how the returned values change depending on the action taken. Remember that in this environment the agent has four discrete actions available and we specify them in code by using their corresponding numerical value:\n",
    "\n",
    "```python\n",
    "Do nothing = 0\n",
    "Fire right engine = 1\n",
    "Fire main engine = 2\n",
    "Fire left engine = 3\n",
    "```"
   ]
  },
  {
   "cell_type": "code",
   "execution_count": 16,
   "metadata": {
    "deletable": false
   },
   "outputs": [
    {
     "data": {
      "text/html": [
       "<style  type=\"text/css\" >\n",
       "    #T_cbdf053c_87b4_11ee_ac73_0242ac120093 th {\n",
       "          border: 1px solid grey;\n",
       "          text-align: center;\n",
       "    }    #T_cbdf053c_87b4_11ee_ac73_0242ac120093 tbody td {\n",
       "          border: 1px solid grey;\n",
       "          text-align: center;\n",
       "    }    #T_cbdf053c_87b4_11ee_ac73_0242ac120093row0_col0 {\n",
       "            background-color :  grey;\n",
       "        }    #T_cbdf053c_87b4_11ee_ac73_0242ac120093row1_col1 {\n",
       "            background-color :  grey;\n",
       "        }    #T_cbdf053c_87b4_11ee_ac73_0242ac120093row1_col2 {\n",
       "            background-color :  grey;\n",
       "        }    #T_cbdf053c_87b4_11ee_ac73_0242ac120093row1_col3 {\n",
       "            background-color :  grey;\n",
       "        }    #T_cbdf053c_87b4_11ee_ac73_0242ac120093row1_col4 {\n",
       "            background-color :  grey;\n",
       "        }    #T_cbdf053c_87b4_11ee_ac73_0242ac120093row1_col5 {\n",
       "            background-color :  grey;\n",
       "        }    #T_cbdf053c_87b4_11ee_ac73_0242ac120093row1_col6 {\n",
       "            background-color :  grey;\n",
       "        }    #T_cbdf053c_87b4_11ee_ac73_0242ac120093row1_col7 {\n",
       "            background-color :  grey;\n",
       "        }    #T_cbdf053c_87b4_11ee_ac73_0242ac120093row1_col8 {\n",
       "            background-color :  grey;\n",
       "        }    #T_cbdf053c_87b4_11ee_ac73_0242ac120093row1_col9 {\n",
       "            background-color :  grey;\n",
       "        }    #T_cbdf053c_87b4_11ee_ac73_0242ac120093row1_col10 {\n",
       "            background-color :  grey;\n",
       "        }    #T_cbdf053c_87b4_11ee_ac73_0242ac120093row1_col11 {\n",
       "            background-color :  grey;\n",
       "        }    #T_cbdf053c_87b4_11ee_ac73_0242ac120093row2_col0 {\n",
       "            background-color :  grey;\n",
       "        }    #T_cbdf053c_87b4_11ee_ac73_0242ac120093row3_col1 {\n",
       "            background-color :  grey;\n",
       "        }    #T_cbdf053c_87b4_11ee_ac73_0242ac120093row3_col2 {\n",
       "            background-color :  grey;\n",
       "        }    #T_cbdf053c_87b4_11ee_ac73_0242ac120093row3_col3 {\n",
       "            background-color :  grey;\n",
       "        }    #T_cbdf053c_87b4_11ee_ac73_0242ac120093row3_col4 {\n",
       "            background-color :  grey;\n",
       "        }    #T_cbdf053c_87b4_11ee_ac73_0242ac120093row3_col5 {\n",
       "            background-color :  grey;\n",
       "        }    #T_cbdf053c_87b4_11ee_ac73_0242ac120093row3_col6 {\n",
       "            background-color :  grey;\n",
       "        }    #T_cbdf053c_87b4_11ee_ac73_0242ac120093row3_col7 {\n",
       "            background-color :  grey;\n",
       "        }    #T_cbdf053c_87b4_11ee_ac73_0242ac120093row3_col8 {\n",
       "            background-color :  grey;\n",
       "        }    #T_cbdf053c_87b4_11ee_ac73_0242ac120093row3_col9 {\n",
       "            background-color :  grey;\n",
       "        }    #T_cbdf053c_87b4_11ee_ac73_0242ac120093row3_col10 {\n",
       "            background-color :  grey;\n",
       "        }    #T_cbdf053c_87b4_11ee_ac73_0242ac120093row3_col11 {\n",
       "            background-color :  grey;\n",
       "        }    #T_cbdf053c_87b4_11ee_ac73_0242ac120093row4_col1 {\n",
       "            background-color :  grey;\n",
       "        }    #T_cbdf053c_87b4_11ee_ac73_0242ac120093row4_col2 {\n",
       "            background-color :  grey;\n",
       "        }    #T_cbdf053c_87b4_11ee_ac73_0242ac120093row4_col3 {\n",
       "            background-color :  grey;\n",
       "        }    #T_cbdf053c_87b4_11ee_ac73_0242ac120093row4_col4 {\n",
       "            background-color :  grey;\n",
       "        }    #T_cbdf053c_87b4_11ee_ac73_0242ac120093row4_col5 {\n",
       "            background-color :  grey;\n",
       "        }    #T_cbdf053c_87b4_11ee_ac73_0242ac120093row4_col6 {\n",
       "            background-color :  grey;\n",
       "        }    #T_cbdf053c_87b4_11ee_ac73_0242ac120093row4_col7 {\n",
       "            background-color :  grey;\n",
       "        }    #T_cbdf053c_87b4_11ee_ac73_0242ac120093row4_col8 {\n",
       "            background-color :  grey;\n",
       "        }    #T_cbdf053c_87b4_11ee_ac73_0242ac120093row4_col9 {\n",
       "            background-color :  grey;\n",
       "        }    #T_cbdf053c_87b4_11ee_ac73_0242ac120093row4_col10 {\n",
       "            background-color :  grey;\n",
       "        }    #T_cbdf053c_87b4_11ee_ac73_0242ac120093row4_col11 {\n",
       "            background-color :  grey;\n",
       "        }</style><table id=\"T_cbdf053c_87b4_11ee_ac73_0242ac120093\" ><thead>    <tr>        <th class=\"blank level0\" ></th>        <th class=\"col_heading level0 col0\" ></th>        <th class=\"col_heading level0 col1\" colspan=8>State Vector</th>        <th class=\"col_heading level0 col9\" colspan=3>Derived from the State Vector (the closer to zero, the better)</th>    </tr>    <tr>        <th class=\"blank level1\" ></th>        <th class=\"col_heading level1 col0\" ></th>        <th class=\"col_heading level1 col1\" colspan=2>Coordinate</th>        <th class=\"col_heading level1 col3\" colspan=2>Velocity</th>        <th class=\"col_heading level1 col5\" colspan=2>Tilting</th>        <th class=\"col_heading level1 col7\" colspan=2>Ground contact</th>        <th class=\"col_heading level1 col9\" >Distance from landing pad</th>        <th class=\"col_heading level1 col10\" >Velocity</th>        <th class=\"col_heading level1 col11\" >Tilting Angle (absolute value)</th>    </tr>    <tr>        <th class=\"blank level2\" ></th>        <th class=\"col_heading level2 col0\" ></th>        <th class=\"col_heading level2 col1\" >X (Horizontal)</th>        <th class=\"col_heading level2 col2\" >Y (Vertical)</th>        <th class=\"col_heading level2 col3\" >X (Horizontal)</th>        <th class=\"col_heading level2 col4\" >Y (Vertical)</th>        <th class=\"col_heading level2 col5\" >Angle</th>        <th class=\"col_heading level2 col6\" >Angular Velocity</th>        <th class=\"col_heading level2 col7\" >Left Leg?</th>        <th class=\"col_heading level2 col8\" >Right Leg?</th>        <th class=\"col_heading level2 col9\" ></th>        <th class=\"col_heading level2 col10\" ></th>        <th class=\"col_heading level2 col11\" ></th>    </tr></thead><tbody>\n",
       "                <tr>\n",
       "                        <th id=\"T_cbdf053c_87b4_11ee_ac73_0242ac120093level0_row0\" class=\"row_heading level0 row0\" >Current State</th>\n",
       "                        <td id=\"T_cbdf053c_87b4_11ee_ac73_0242ac120093row0_col0\" class=\"data row0 col0\" ></td>\n",
       "                        <td id=\"T_cbdf053c_87b4_11ee_ac73_0242ac120093row0_col1\" class=\"data row0 col1\" >0.003839</td>\n",
       "                        <td id=\"T_cbdf053c_87b4_11ee_ac73_0242ac120093row0_col2\" class=\"data row0 col2\" >1.433103</td>\n",
       "                        <td id=\"T_cbdf053c_87b4_11ee_ac73_0242ac120093row0_col3\" class=\"data row0 col3\" >0.194137</td>\n",
       "                        <td id=\"T_cbdf053c_87b4_11ee_ac73_0242ac120093row0_col4\" class=\"data row0 col4\" >0.480094</td>\n",
       "                        <td id=\"T_cbdf053c_87b4_11ee_ac73_0242ac120093row0_col5\" class=\"data row0 col5\" >-0.004393</td>\n",
       "                        <td id=\"T_cbdf053c_87b4_11ee_ac73_0242ac120093row0_col6\" class=\"data row0 col6\" >-0.043519</td>\n",
       "                        <td id=\"T_cbdf053c_87b4_11ee_ac73_0242ac120093row0_col7\" class=\"data row0 col7\" >False</td>\n",
       "                        <td id=\"T_cbdf053c_87b4_11ee_ac73_0242ac120093row0_col8\" class=\"data row0 col8\" >False</td>\n",
       "                        <td id=\"T_cbdf053c_87b4_11ee_ac73_0242ac120093row0_col9\" class=\"data row0 col9\" >1.433108</td>\n",
       "                        <td id=\"T_cbdf053c_87b4_11ee_ac73_0242ac120093row0_col10\" class=\"data row0 col10\" >0.517860</td>\n",
       "                        <td id=\"T_cbdf053c_87b4_11ee_ac73_0242ac120093row0_col11\" class=\"data row0 col11\" >0.004393</td>\n",
       "            </tr>\n",
       "            <tr>\n",
       "                        <th id=\"T_cbdf053c_87b4_11ee_ac73_0242ac120093level0_row1\" class=\"row_heading level0 row1\" >Action</th>\n",
       "                        <td id=\"T_cbdf053c_87b4_11ee_ac73_0242ac120093row1_col0\" class=\"data row1 col0\" >Do nothing</td>\n",
       "                        <td id=\"T_cbdf053c_87b4_11ee_ac73_0242ac120093row1_col1\" class=\"data row1 col1\" ></td>\n",
       "                        <td id=\"T_cbdf053c_87b4_11ee_ac73_0242ac120093row1_col2\" class=\"data row1 col2\" ></td>\n",
       "                        <td id=\"T_cbdf053c_87b4_11ee_ac73_0242ac120093row1_col3\" class=\"data row1 col3\" ></td>\n",
       "                        <td id=\"T_cbdf053c_87b4_11ee_ac73_0242ac120093row1_col4\" class=\"data row1 col4\" ></td>\n",
       "                        <td id=\"T_cbdf053c_87b4_11ee_ac73_0242ac120093row1_col5\" class=\"data row1 col5\" ></td>\n",
       "                        <td id=\"T_cbdf053c_87b4_11ee_ac73_0242ac120093row1_col6\" class=\"data row1 col6\" ></td>\n",
       "                        <td id=\"T_cbdf053c_87b4_11ee_ac73_0242ac120093row1_col7\" class=\"data row1 col7\" ></td>\n",
       "                        <td id=\"T_cbdf053c_87b4_11ee_ac73_0242ac120093row1_col8\" class=\"data row1 col8\" ></td>\n",
       "                        <td id=\"T_cbdf053c_87b4_11ee_ac73_0242ac120093row1_col9\" class=\"data row1 col9\" ></td>\n",
       "                        <td id=\"T_cbdf053c_87b4_11ee_ac73_0242ac120093row1_col10\" class=\"data row1 col10\" ></td>\n",
       "                        <td id=\"T_cbdf053c_87b4_11ee_ac73_0242ac120093row1_col11\" class=\"data row1 col11\" ></td>\n",
       "            </tr>\n",
       "            <tr>\n",
       "                        <th id=\"T_cbdf053c_87b4_11ee_ac73_0242ac120093level0_row2\" class=\"row_heading level0 row2\" >Next State</th>\n",
       "                        <td id=\"T_cbdf053c_87b4_11ee_ac73_0242ac120093row2_col0\" class=\"data row2 col0\" ></td>\n",
       "                        <td id=\"T_cbdf053c_87b4_11ee_ac73_0242ac120093row2_col1\" class=\"data row2 col1\" >0.005758</td>\n",
       "                        <td id=\"T_cbdf053c_87b4_11ee_ac73_0242ac120093row2_col2\" class=\"data row2 col2\" >1.443307</td>\n",
       "                        <td id=\"T_cbdf053c_87b4_11ee_ac73_0242ac120093row2_col3\" class=\"data row2 col3\" >0.194144</td>\n",
       "                        <td id=\"T_cbdf053c_87b4_11ee_ac73_0242ac120093row2_col4\" class=\"data row2 col4\" >0.453481</td>\n",
       "                        <td id=\"T_cbdf053c_87b4_11ee_ac73_0242ac120093row2_col5\" class=\"data row2 col5\" >-0.006568</td>\n",
       "                        <td id=\"T_cbdf053c_87b4_11ee_ac73_0242ac120093row2_col6\" class=\"data row2 col6\" >-0.043497</td>\n",
       "                        <td id=\"T_cbdf053c_87b4_11ee_ac73_0242ac120093row2_col7\" class=\"data row2 col7\" >False</td>\n",
       "                        <td id=\"T_cbdf053c_87b4_11ee_ac73_0242ac120093row2_col8\" class=\"data row2 col8\" >False</td>\n",
       "                        <td id=\"T_cbdf053c_87b4_11ee_ac73_0242ac120093row2_col9\" class=\"data row2 col9\" >1.443318</td>\n",
       "                        <td id=\"T_cbdf053c_87b4_11ee_ac73_0242ac120093row2_col10\" class=\"data row2 col10\" >0.493292</td>\n",
       "                        <td id=\"T_cbdf053c_87b4_11ee_ac73_0242ac120093row2_col11\" class=\"data row2 col11\" >0.006568</td>\n",
       "            </tr>\n",
       "            <tr>\n",
       "                        <th id=\"T_cbdf053c_87b4_11ee_ac73_0242ac120093level0_row3\" class=\"row_heading level0 row3\" >Reward</th>\n",
       "                        <td id=\"T_cbdf053c_87b4_11ee_ac73_0242ac120093row3_col0\" class=\"data row3 col0\" >1.218346</td>\n",
       "                        <td id=\"T_cbdf053c_87b4_11ee_ac73_0242ac120093row3_col1\" class=\"data row3 col1\" ></td>\n",
       "                        <td id=\"T_cbdf053c_87b4_11ee_ac73_0242ac120093row3_col2\" class=\"data row3 col2\" ></td>\n",
       "                        <td id=\"T_cbdf053c_87b4_11ee_ac73_0242ac120093row3_col3\" class=\"data row3 col3\" ></td>\n",
       "                        <td id=\"T_cbdf053c_87b4_11ee_ac73_0242ac120093row3_col4\" class=\"data row3 col4\" ></td>\n",
       "                        <td id=\"T_cbdf053c_87b4_11ee_ac73_0242ac120093row3_col5\" class=\"data row3 col5\" ></td>\n",
       "                        <td id=\"T_cbdf053c_87b4_11ee_ac73_0242ac120093row3_col6\" class=\"data row3 col6\" ></td>\n",
       "                        <td id=\"T_cbdf053c_87b4_11ee_ac73_0242ac120093row3_col7\" class=\"data row3 col7\" ></td>\n",
       "                        <td id=\"T_cbdf053c_87b4_11ee_ac73_0242ac120093row3_col8\" class=\"data row3 col8\" ></td>\n",
       "                        <td id=\"T_cbdf053c_87b4_11ee_ac73_0242ac120093row3_col9\" class=\"data row3 col9\" ></td>\n",
       "                        <td id=\"T_cbdf053c_87b4_11ee_ac73_0242ac120093row3_col10\" class=\"data row3 col10\" ></td>\n",
       "                        <td id=\"T_cbdf053c_87b4_11ee_ac73_0242ac120093row3_col11\" class=\"data row3 col11\" ></td>\n",
       "            </tr>\n",
       "            <tr>\n",
       "                        <th id=\"T_cbdf053c_87b4_11ee_ac73_0242ac120093level0_row4\" class=\"row_heading level0 row4\" >Episode Terminated</th>\n",
       "                        <td id=\"T_cbdf053c_87b4_11ee_ac73_0242ac120093row4_col0\" class=\"data row4 col0\" >False</td>\n",
       "                        <td id=\"T_cbdf053c_87b4_11ee_ac73_0242ac120093row4_col1\" class=\"data row4 col1\" ></td>\n",
       "                        <td id=\"T_cbdf053c_87b4_11ee_ac73_0242ac120093row4_col2\" class=\"data row4 col2\" ></td>\n",
       "                        <td id=\"T_cbdf053c_87b4_11ee_ac73_0242ac120093row4_col3\" class=\"data row4 col3\" ></td>\n",
       "                        <td id=\"T_cbdf053c_87b4_11ee_ac73_0242ac120093row4_col4\" class=\"data row4 col4\" ></td>\n",
       "                        <td id=\"T_cbdf053c_87b4_11ee_ac73_0242ac120093row4_col5\" class=\"data row4 col5\" ></td>\n",
       "                        <td id=\"T_cbdf053c_87b4_11ee_ac73_0242ac120093row4_col6\" class=\"data row4 col6\" ></td>\n",
       "                        <td id=\"T_cbdf053c_87b4_11ee_ac73_0242ac120093row4_col7\" class=\"data row4 col7\" ></td>\n",
       "                        <td id=\"T_cbdf053c_87b4_11ee_ac73_0242ac120093row4_col8\" class=\"data row4 col8\" ></td>\n",
       "                        <td id=\"T_cbdf053c_87b4_11ee_ac73_0242ac120093row4_col9\" class=\"data row4 col9\" ></td>\n",
       "                        <td id=\"T_cbdf053c_87b4_11ee_ac73_0242ac120093row4_col10\" class=\"data row4 col10\" ></td>\n",
       "                        <td id=\"T_cbdf053c_87b4_11ee_ac73_0242ac120093row4_col11\" class=\"data row4 col11\" ></td>\n",
       "            </tr>\n",
       "    </tbody></table>"
      ],
      "text/plain": [
       "<pandas.io.formats.style.Styler at 0x7f04b440f050>"
      ]
     },
     "metadata": {},
     "output_type": "display_data"
    }
   ],
   "source": [
    "# Select an action\n",
    "action = 0\n",
    "\n",
    "# Run a single time step of the environment's dynamics with the given action.\n",
    "next_state, reward, done, _ = env.step(action)\n",
    "\n",
    "# Display table with values.\n",
    "utils.display_table(current_state, action, next_state, reward, done)\n",
    "\n",
    "# Replace the `current_state` with the state after the action is taken\n",
    "current_state = next_state"
   ]
  },
  {
   "cell_type": "markdown",
   "metadata": {},
   "source": [
    "In practice, when we train the agent we use a loop to allow the agent to take many consecutive actions during an episode."
   ]
  },
  {
   "cell_type": "markdown",
   "metadata": {},
   "source": [
    "<a name=\"6\"></a>\n",
    "## 6 - Deep Q-Learning\n",
    "\n",
    "In cases where both the state and action space are discrete we can estimate the action-value function iteratively by using the Bellman equation:\n",
    "\n",
    "$$\n",
    "Q_{i+1}(s,a) = R + \\gamma \\max_{a'}Q_i(s',a')\n",
    "$$\n",
    "\n",
    "This iterative method converges to the optimal action-value function $Q^*(s,a)$ as $i\\to\\infty$. This means that the agent just needs to gradually explore the state-action space and keep updating the estimate of $Q(s,a)$ until it converges to the optimal action-value function $Q^*(s,a)$. However, in cases where the state space is continuous it becomes practically impossible to explore the entire state-action space. Consequently, this also makes it practically impossible to gradually estimate $Q(s,a)$ until it converges to $Q^*(s,a)$.\n",
    "\n",
    "In the Deep $Q$-Learning, we solve this problem by using a neural network to estimate the action-value function $Q(s,a)\\approx Q^*(s,a)$. We call this neural network a $Q$-Network and it can be trained by adjusting its weights at each iteration to minimize the mean-squared error in the Bellman equation.\n",
    "\n",
    "Unfortunately, using neural networks in reinforcement learning to estimate action-value functions has proven to be highly unstable. Luckily, there's a couple of techniques that can be employed to avoid instabilities. These techniques consist of using a ***Target Network*** and ***Experience Replay***. We will explore these two techniques in the following sections."
   ]
  },
  {
   "cell_type": "markdown",
   "metadata": {},
   "source": [
    "<a name=\"6.1\"></a>\n",
    "### 6.1 Target Network\n",
    "\n",
    "We can train the $Q$-Network by adjusting it's weights at each iteration to minimize the mean-squared error in the Bellman equation, where the target values are given by:\n",
    "\n",
    "$$\n",
    "y = R + \\gamma \\max_{a'}Q(s',a';w)\n",
    "$$\n",
    "\n",
    "where $w$ are the weights of the $Q$-Network. This means that we are adjusting the weights $w$ at each iteration to minimize the following error:\n",
    "\n",
    "$$\n",
    "\\overbrace{\\underbrace{R + \\gamma \\max_{a'}Q(s',a'; w)}_{\\rm {y~target}} - Q(s,a;w)}^{\\rm {Error}}\n",
    "$$\n",
    "\n",
    "Notice that this forms a problem because the $y$ target is changing on every iteration. Having a constantly moving target can lead to oscillations and instabilities. To avoid this, we can create\n",
    "a separate neural network for generating the $y$ targets. We call this separate neural network the **target $\\hat Q$-Network** and it will have the same architecture as the original $Q$-Network. By using the target $\\hat Q$-Network, the above error becomes:\n",
    "\n",
    "$$\n",
    "\\overbrace{\\underbrace{R + \\gamma \\max_{a'}\\hat{Q}(s',a'; w^-)}_{\\rm {y~target}} - Q(s,a;w)}^{\\rm {Error}}\n",
    "$$\n",
    "\n",
    "where $w^-$ and $w$ are the weights of the target $\\hat Q$-Network and $Q$-Network, respectively.\n",
    "\n",
    "In practice, we will use the following algorithm: every $C$ time steps we will use the $\\hat Q$-Network to generate the $y$ targets and update the weights of the target $\\hat Q$-Network using the weights of the $Q$-Network. We will update the weights $w^-$ of the the target $\\hat Q$-Network using a **soft update**. This means that we will update the weights $w^-$ using the following rule:\n",
    " \n",
    "$$\n",
    "w^-\\leftarrow \\tau w + (1 - \\tau) w^-\n",
    "$$\n",
    "\n",
    "where $\\tau\\ll 1$. By using the soft update, we are ensuring that the target values, $y$, change slowly, which greatly improves the stability of our learning algorithm."
   ]
  },
  {
   "cell_type": "markdown",
   "metadata": {},
   "source": [
    "<a name=\"ex01\"></a>\n",
    "### Exercise 1\n",
    "\n",
    "In this exercise you will create the $Q$ and target $\\hat Q$ networks and set the optimizer. Remember that the Deep $Q$-Network (DQN) is a neural network that approximates the action-value function $Q(s,a)\\approx Q^*(s,a)$. It does this by learning how to map states to $Q$ values.\n",
    "\n",
    "To solve the Lunar Lander environment, we are going to employ a DQN with the following architecture:\n",
    "\n",
    "* An `Input` layer that takes `state_size` as input.\n",
    "\n",
    "* A `Dense` layer with `64` units and a `relu` activation function.\n",
    "\n",
    "* A `Dense` layer with `64` units and a `relu` activation function.\n",
    "\n",
    "* A `Dense` layer with `num_actions` units and a `linear` activation function. This will be the output layer of our network.\n",
    "\n",
    "\n",
    "In the cell below you should create the $Q$-Network and the target $\\hat Q$-Network using the model architecture described above. Remember that both the $Q$-Network and the target $\\hat Q$-Network have the same architecture.\n",
    "\n",
    "Lastly, you should set `Adam` as the optimizer with a learning rate equal to `ALPHA`. Recall that `ALPHA` was defined in the [Hyperparameters](#2) section. We should note that for this exercise you should use the already imported packages:\n",
    "```python\n",
    "from tensorflow.keras.layers import Dense, Input\n",
    "from tensorflow.keras.optimizers import Adam\n",
    "```"
   ]
  },
  {
   "cell_type": "code",
   "execution_count": 13,
   "metadata": {
    "deletable": false
   },
   "outputs": [],
   "source": [
    "# UNQ_C1\n",
    "# GRADED CELL\n",
    "\n",
    "# Create the Q-Network\n",
    "q_network = Sequential([\n",
    "    ### START CODE HERE ### \n",
    "    Input(shape=state_size),\n",
    "    Dense(units=64, activation='relu'),\n",
    "    Dense(units=64, activation='relu'),\n",
    "    Dense(units=num_actions),\n",
    "    ### END CODE HERE ### \n",
    "    ])\n",
    "\n",
    "# Create the target Q^-Network\n",
    "target_q_network = Sequential([\n",
    "    ### START CODE HERE ### \n",
    "    Input(shape=state_size),\n",
    "    Dense(units=64, activation='relu'),\n",
    "    Dense(units=64, activation='relu'),\n",
    "    Dense(units=num_actions),\n",
    "    ### END CODE HERE ###\n",
    "    ])\n",
    "\n",
    "### START CODE HERE ### \n",
    "optimizer = Adam(learning_rate=ALPHA)\n",
    "### END CODE HERE ###"
   ]
  },
  {
   "cell_type": "code",
   "execution_count": 14,
   "metadata": {
    "deletable": false,
    "editable": false
   },
   "outputs": [
    {
     "name": "stdout",
     "output_type": "stream",
     "text": [
      "\u001b[92mAll tests passed!\n",
      "\u001b[92mAll tests passed!\n",
      "\u001b[92mAll tests passed!\n"
     ]
    }
   ],
   "source": [
    "# UNIT TEST\n",
    "from public_tests import *\n",
    "\n",
    "test_network(q_network)\n",
    "test_network(target_q_network)\n",
    "test_optimizer(optimizer, ALPHA) "
   ]
  },
  {
   "cell_type": "markdown",
   "metadata": {},
   "source": [
    "<details>\n",
    "  <summary><font size=\"3\" color=\"darkgreen\"><b>Click for hints</b></font></summary>\n",
    "    \n",
    "```python\n",
    "# Create the Q-Network\n",
    "q_network = Sequential([\n",
    "    Input(shape=state_size),                      \n",
    "    Dense(units=64, activation='relu'),            \n",
    "    Dense(units=64, activation='relu'),            \n",
    "    Dense(units=num_actions, activation='linear'),\n",
    "    ])\n",
    "\n",
    "# Create the target Q^-Network\n",
    "target_q_network = Sequential([\n",
    "    Input(shape=state_size),                       \n",
    "    Dense(units=64, activation='relu'),            \n",
    "    Dense(units=64, activation='relu'),            \n",
    "    Dense(units=num_actions, activation='linear'), \n",
    "    ])\n",
    "\n",
    "optimizer = Adam(learning_rate=ALPHA)                                  \n",
    "``` "
   ]
  },
  {
   "cell_type": "markdown",
   "metadata": {},
   "source": [
    "<a name=\"6.2\"></a>\n",
    "### 6.2 Experience Replay\n",
    "\n",
    "When an agent interacts with the environment, the states, actions, and rewards the agent experiences are sequential by nature. If the agent tries to learn from these consecutive experiences it can run into problems due to the strong correlations between them. To avoid this, we employ a technique known as **Experience Replay** to generate uncorrelated experiences for training our agent. Experience replay consists of storing the agent's experiences (i.e the states, actions, and rewards the agent receives) in a memory buffer and then sampling a random mini-batch of experiences from the buffer to do the learning. The experience tuples $(S_t, A_t, R_t, S_{t+1})$ will be added to the memory buffer at each time step as the agent interacts with the environment.\n",
    "\n",
    "For convenience, we will store the experiences as named tuples."
   ]
  },
  {
   "cell_type": "code",
   "execution_count": 17,
   "metadata": {
    "deletable": false,
    "editable": false
   },
   "outputs": [],
   "source": [
    "# Store experiences as named tuples\n",
    "experience = namedtuple(\"Experience\", field_names=[\"state\", \"action\", \"reward\", \"next_state\", \"done\"])"
   ]
  },
  {
   "cell_type": "markdown",
   "metadata": {},
   "source": [
    "By using experience replay we avoid problematic correlations, oscillations and instabilities. In addition, experience replay also allows the agent to potentially use the same experience in multiple weight updates, which increases data efficiency."
   ]
  },
  {
   "cell_type": "markdown",
   "metadata": {},
   "source": [
    "<a name=\"7\"></a>\n",
    "## 7 - Deep Q-Learning Algorithm with Experience Replay\n",
    "\n",
    "Now that we know all the techniques that we are going to use, we can put them together to arrive at the Deep Q-Learning Algorithm With Experience Replay.\n",
    "<br>\n",
    "<br>\n",
    "<figure>\n",
    "  <img src = \"images/deep_q_algorithm.png\" width = 90% style = \"border: thin silver solid; padding: 0px\">\n",
    "      <figcaption style = \"text-align: center; font-style: italic\">Fig 3. Deep Q-Learning with Experience Replay.</figcaption>\n",
    "</figure>"
   ]
  },
  {
   "cell_type": "markdown",
   "metadata": {},
   "source": [
    "<a name=\"ex02\"></a>\n",
    "### Exercise 2\n",
    "\n",
    "In this exercise you will implement line ***12*** of the algorithm outlined in *Fig 3* above and you will also compute the loss between the $y$ targets and the $Q(s,a)$ values. In the cell below, complete the `compute_loss` function by setting the $y$ targets equal to:\n",
    "\n",
    "$$\n",
    "\\begin{equation}\n",
    "    y_j =\n",
    "    \\begin{cases}\n",
    "      R_j & \\text{if episode terminates at step  } j+1\\\\\n",
    "      R_j + \\gamma \\max_{a'}\\hat{Q}(s_{j+1},a') & \\text{otherwise}\\\\\n",
    "    \\end{cases}       \n",
    "\\end{equation}\n",
    "$$\n",
    "\n",
    "Here are a couple of things to note:\n",
    "\n",
    "* The `compute_loss` function takes in a mini-batch of experience tuples. This mini-batch of experience tuples is unpacked to extract the `states`, `actions`, `rewards`, `next_states`, and `done_vals`. You should keep in mind that these variables are *TensorFlow Tensors* whose size will depend on the mini-batch size. For example, if the mini-batch size is `64` then both `rewards` and `done_vals` will be TensorFlow Tensors with `64` elements.\n",
    "\n",
    "\n",
    "* Using `if/else` statements to set the $y$ targets will not work when the variables are tensors with many elements. However, notice that you can use the `done_vals` to implement the above in a single line of code. To do this, recall that the `done` variable is a Boolean variable that takes the value `True` when an episode terminates at step $j+1$ and it is `False` otherwise. Taking into account that a Boolean value of `True` has the numerical value of `1` and a Boolean value of `False` has the numerical value of `0`, you can use the factor `(1 - done_vals)` to implement the above in a single line of code. Here's a hint: notice that `(1 - done_vals)` has a value of `0` when `done_vals` is `True` and a value of `1` when `done_vals` is `False`. \n",
    "\n",
    "Lastly, compute the loss by calculating the Mean-Squared Error (`MSE`) between the `y_targets` and the `q_values`. To calculate the mean-squared error you should use the already imported package `MSE`:\n",
    "```python\n",
    "from tensorflow.keras.losses import MSE\n",
    "```"
   ]
  },
  {
   "cell_type": "code",
   "execution_count": 19,
   "metadata": {
    "deletable": false
   },
   "outputs": [],
   "source": [
    "# UNQ_C2\n",
    "# GRADED FUNCTION: calculate_loss\n",
    "\n",
    "def compute_loss(experiences, gamma, q_network, target_q_network):\n",
    "    \"\"\" \n",
    "    Calculates the loss.\n",
    "    \n",
    "    Args:\n",
    "      experiences: (tuple) tuple of [\"state\", \"action\", \"reward\", \"next_state\", \"done\"] namedtuples\n",
    "      gamma: (float) The discount factor.\n",
    "      q_network: (tf.keras.Sequential) Keras model for predicting the q_values\n",
    "      target_q_network: (tf.keras.Sequential) Keras model for predicting the targets\n",
    "          \n",
    "    Returns:\n",
    "      loss: (TensorFlow Tensor(shape=(0,), dtype=int32)) the Mean-Squared Error between\n",
    "            the y targets and the Q(s,a) values.\n",
    "    \"\"\"\n",
    "\n",
    "    # Unpack the mini-batch of experience tuples\n",
    "    states, actions, rewards, next_states, done_vals = experiences\n",
    "    \n",
    "    # Compute max Q^(s,a)\n",
    "    max_qsa = tf.reduce_max(target_q_network(next_states), axis=-1)\n",
    "    \n",
    "    # Set y = R if episode terminates, otherwise set y = R + γ max Q^(s,a).\n",
    "    ### START CODE HERE ### \n",
    "    y_targets = rewards + (1-done_vals)*(gamma*max_qsa)\n",
    "    ### END CODE HERE ###\n",
    "    \n",
    "    # Get the q_values and reshape to match y_targets\n",
    "    q_values = q_network(states)\n",
    "    q_values = tf.gather_nd(q_values, tf.stack([tf.range(q_values.shape[0]),\n",
    "                                                tf.cast(actions, tf.int32)], axis=1))\n",
    "        \n",
    "    # Compute the loss\n",
    "    ### START CODE HERE ### \n",
    "    loss = MSE(y_targets, q_values) \n",
    "    ### END CODE HERE ### \n",
    "    \n",
    "    return loss"
   ]
  },
  {
   "cell_type": "code",
   "execution_count": 20,
   "metadata": {
    "deletable": false,
    "editable": false
   },
   "outputs": [
    {
     "name": "stdout",
     "output_type": "stream",
     "text": [
      "\u001b[92mAll tests passed!\n"
     ]
    }
   ],
   "source": [
    "# UNIT TEST    \n",
    "test_compute_loss(compute_loss)"
   ]
  },
  {
   "cell_type": "markdown",
   "metadata": {},
   "source": [
    "<details>\n",
    "  <summary><font size=\"3\" color=\"darkgreen\"><b>Click for hints</b></font></summary>\n",
    "    \n",
    "```python\n",
    "def compute_loss(experiences, gamma, q_network, target_q_network):\n",
    "    \"\"\" \n",
    "    Calculates the loss.\n",
    "    \n",
    "    Args:\n",
    "      experiences: (tuple) tuple of [\"state\", \"action\", \"reward\", \"next_state\", \"done\"] namedtuples\n",
    "      gamma: (float) The discount factor.\n",
    "      q_network: (tf.keras.Sequential) Keras model for predicting the q_values\n",
    "      target_q_network: (tf.keras.Sequential) Keras model for predicting the targets\n",
    "          \n",
    "    Returns:\n",
    "      loss: (TensorFlow Tensor(shape=(0,), dtype=int32)) the Mean-Squared Error between\n",
    "            the y targets and the Q(s,a) values.\n",
    "    \"\"\"\n",
    "\n",
    "    \n",
    "    # Unpack the mini-batch of experience tuples\n",
    "    states, actions, rewards, next_states, done_vals = experiences\n",
    "    \n",
    "    # Compute max Q^(s,a)\n",
    "    max_qsa = tf.reduce_max(target_q_network(next_states), axis=-1)\n",
    "    \n",
    "    # Set y = R if episode terminates, otherwise set y = R + γ max Q^(s,a).\n",
    "    y_targets = rewards + (gamma * max_qsa * (1 - done_vals))\n",
    "    \n",
    "    # Get the q_values\n",
    "    q_values = q_network(states)\n",
    "    q_values = tf.gather_nd(q_values, tf.stack([tf.range(q_values.shape[0]),\n",
    "                                                tf.cast(actions, tf.int32)], axis=1))\n",
    "    \n",
    "    # Calculate the loss\n",
    "    loss = MSE(y_targets, q_values)\n",
    "    \n",
    "    return loss\n",
    "\n",
    "``` \n",
    "    "
   ]
  },
  {
   "cell_type": "markdown",
   "metadata": {},
   "source": [
    "<a name=\"8\"></a>\n",
    "## 8 - Update the Network Weights\n",
    "\n",
    "We will use the `agent_learn` function below to implement lines ***12 -14*** of the algorithm outlined in [Fig 3](#7). The `agent_learn` function will update the weights of the $Q$ and target $\\hat Q$ networks using a custom training loop. Because we are using a custom training loop we need to retrieve the gradients via a `tf.GradientTape` instance, and then call `optimizer.apply_gradients()` to update the weights of our $Q$-Network. Note that we are also using the `@tf.function` decorator to increase performance. Without this decorator our training will take twice as long. If you would like to know more about how to increase performance with `@tf.function` take a look at the [TensorFlow documentation](https://www.tensorflow.org/guide/function).\n",
    "\n",
    "The last line of this function updates the weights of the target $\\hat Q$-Network using a [soft update](#6.1). If you want to know how this is implemented in code we encourage you to take a look at the `utils.update_target_network` function in the `utils` module."
   ]
  },
  {
   "cell_type": "code",
   "execution_count": 21,
   "metadata": {
    "deletable": false,
    "editable": false
   },
   "outputs": [],
   "source": [
    "@tf.function\n",
    "def agent_learn(experiences, gamma):\n",
    "    \"\"\"\n",
    "    Updates the weights of the Q networks.\n",
    "    \n",
    "    Args:\n",
    "      experiences: (tuple) tuple of [\"state\", \"action\", \"reward\", \"next_state\", \"done\"] namedtuples\n",
    "      gamma: (float) The discount factor.\n",
    "    \n",
    "    \"\"\"\n",
    "    \n",
    "    # Calculate the loss\n",
    "    with tf.GradientTape() as tape:\n",
    "        loss = compute_loss(experiences, gamma, q_network, target_q_network)\n",
    "\n",
    "    # Get the gradients of the loss with respect to the weights.\n",
    "    gradients = tape.gradient(loss, q_network.trainable_variables)\n",
    "    \n",
    "    # Update the weights of the q_network.\n",
    "    optimizer.apply_gradients(zip(gradients, q_network.trainable_variables))\n",
    "\n",
    "    # update the weights of target q_network\n",
    "    utils.update_target_network(q_network, target_q_network)"
   ]
  },
  {
   "cell_type": "markdown",
   "metadata": {},
   "source": [
    "<a name=\"9\"></a>\n",
    "## 9 - Train the Agent\n",
    "\n",
    "We are now ready to train our agent to solve the Lunar Lander environment. In the cell below we will implement the algorithm in [Fig 3](#7) line by line (please note that we have included the same algorithm below for easy reference. This will prevent you from scrolling up and down the notebook):\n",
    "\n",
    "* **Line 1**: We initialize the `memory_buffer` with a capacity of $N =$ `MEMORY_SIZE`. Notice that we are using a `deque` as the data structure for our `memory_buffer`.\n",
    "\n",
    "\n",
    "* **Line 2**: We skip this line since we already initialized the `q_network` in [Exercise 1](#ex01).\n",
    "\n",
    "\n",
    "* **Line 3**: We initialize the `target_q_network` by setting its weights to be equal to those of the `q_network`.\n",
    "\n",
    "\n",
    "* **Line 4**: We start the outer loop. Notice that we have set $M =$ `num_episodes = 2000`. This number is reasonable because the agent should be able to solve the Lunar Lander environment in less than `2000` episodes using this notebook's default parameters.\n",
    "\n",
    "\n",
    "* **Line 5**: We use the `.reset()` method to reset the environment to the initial state and get the initial state.\n",
    "\n",
    "\n",
    "* **Line 6**: We start the inner loop. Notice that we have set $T =$ `max_num_timesteps = 1000`. This means that the episode will automatically terminate if the episode hasn't terminated after `1000` time steps.\n",
    "\n",
    "\n",
    "* **Line 7**: The agent observes the current `state` and chooses an `action` using an $\\epsilon$-greedy policy. Our agent starts out using a value of $\\epsilon =$ `epsilon = 1` which yields an $\\epsilon$-greedy policy that is equivalent to the equiprobable random policy. This means that at the beginning of our training, the agent is just going to take random actions regardless of the observed `state`. As training progresses we will decrease the value of $\\epsilon$ slowly towards a minimum value using a given $\\epsilon$-decay rate. We want this minimum value to be close to zero because a value of $\\epsilon = 0$ will yield an $\\epsilon$-greedy policy that is equivalent to the greedy policy. This means that towards the end of training, the agent will lean towards selecting the `action` that it believes (based on its past experiences) will maximize $Q(s,a)$. We will set the minimum $\\epsilon$ value to be `0.01` and not exactly 0 because we always want to keep a little bit of exploration during training. If you want to know how this is implemented in code we encourage you to take a look at the `utils.get_action` function in the `utils` module.\n",
    "\n",
    "\n",
    "* **Line 8**: We use the `.step()` method to take the given `action` in the environment and get the `reward` and the `next_state`. \n",
    "\n",
    "\n",
    "* **Line 9**: We store the `experience(state, action, reward, next_state, done)` tuple in our `memory_buffer`. Notice that we also store the `done` variable so that we can keep track of when an episode terminates. This allowed us to set the $y$ targets in [Exercise 2](#ex02).\n",
    "\n",
    "\n",
    "* **Line 10**: We check if the conditions are met to perform a learning update. We do this by using our custom `utils.check_update_conditions` function. This function checks if $C =$ `NUM_STEPS_FOR_UPDATE = 4` time steps have occured and if our `memory_buffer` has enough experience tuples to fill a mini-batch. For example, if the mini-batch size is `64`, then our `memory_buffer` should have more than `64` experience tuples in order to pass the latter condition. If the conditions are met, then the `utils.check_update_conditions` function will return a value of `True`, otherwise it will return a value of `False`.\n",
    "\n",
    "\n",
    "* **Lines 11 - 14**: If the `update` variable is `True` then we perform a learning update. The learning update consists of sampling a random mini-batch of experience tuples from our `memory_buffer`, setting the $y$ targets, performing gradient descent, and updating the weights of the networks. We will use the `agent_learn` function we defined in [Section 8](#8) to perform the latter 3.\n",
    "\n",
    "\n",
    "* **Line 15**: At the end of each iteration of the inner loop we set `next_state` as our new `state` so that the loop can start again from this new state. In addition, we check if the episode has reached a terminal state (i.e we check if `done = True`). If a terminal state has been reached, then we break out of the inner loop.\n",
    "\n",
    "\n",
    "* **Line 16**: At the end of each iteration of the outer loop we update the value of $\\epsilon$, and check if the environment has been solved. We consider that the environment has been solved if the agent receives an average of `200` points in the last `100` episodes. If the environment has not been solved we continue the outer loop and start a new episode.\n",
    "\n",
    "Finally, we wanted to note that we have included some extra variables to keep track of the total number of points the agent received in each episode. This will help us determine if the agent has solved the environment and it will also allow us to see how our agent performed during training. We also use the `time` module to measure how long the training takes. \n",
    "\n",
    "<br>\n",
    "<br>\n",
    "<figure>\n",
    "  <img src = \"images/deep_q_algorithm.png\" width = 90% style = \"border: thin silver solid; padding: 0px\">\n",
    "      <figcaption style = \"text-align: center; font-style: italic\">Fig 4. Deep Q-Learning with Experience Replay.</figcaption>\n",
    "</figure>\n",
    "<br>\n",
    "\n",
    "**Note:** With this notebook's default parameters, the following cell takes between 10 to 15 minutes to run. "
   ]
  },
  {
   "cell_type": "code",
   "execution_count": 22,
   "metadata": {
    "deletable": false,
    "editable": false
   },
   "outputs": [
    {
     "name": "stdout",
     "output_type": "stream",
     "text": [
      "Episode 100 | Total point average of the last 100 episodes: -156.61\n",
      "Episode 200 | Total point average of the last 100 episodes: -93.361\n",
      "Episode 300 | Total point average of the last 100 episodes: -71.24\n",
      "Episode 400 | Total point average of the last 100 episodes: 39.391\n",
      "Episode 500 | Total point average of the last 100 episodes: 148.47\n",
      "Episode 559 | Total point average of the last 100 episodes: 200.97\n",
      "\n",
      "Environment solved in 559 episodes!\n",
      "\n",
      "Total Runtime: 699.64 s (11.66 min)\n"
     ]
    }
   ],
   "source": [
    "start = time.time()\n",
    "\n",
    "num_episodes = 2000\n",
    "max_num_timesteps = 1000\n",
    "\n",
    "total_point_history = []\n",
    "\n",
    "num_p_av = 100    # number of total points to use for averaging\n",
    "epsilon = 1.0     # initial ε value for ε-greedy policy\n",
    "\n",
    "# Create a memory buffer D with capacity N\n",
    "memory_buffer = deque(maxlen=MEMORY_SIZE)\n",
    "\n",
    "# Set the target network weights equal to the Q-Network weights\n",
    "target_q_network.set_weights(q_network.get_weights())\n",
    "\n",
    "for i in range(num_episodes):\n",
    "    \n",
    "    # Reset the environment to the initial state and get the initial state\n",
    "    state = env.reset()\n",
    "    total_points = 0\n",
    "    \n",
    "    for t in range(max_num_timesteps):\n",
    "        \n",
    "        # From the current state S choose an action A using an ε-greedy policy\n",
    "        state_qn = np.expand_dims(state, axis=0)  # state needs to be the right shape for the q_network\n",
    "        q_values = q_network(state_qn)\n",
    "        action = utils.get_action(q_values, epsilon)\n",
    "        \n",
    "        # Take action A and receive reward R and the next state S'\n",
    "        next_state, reward, done, _ = env.step(action)\n",
    "        \n",
    "        # Store experience tuple (S,A,R,S') in the memory buffer.\n",
    "        # We store the done variable as well for convenience.\n",
    "        memory_buffer.append(experience(state, action, reward, next_state, done))\n",
    "        \n",
    "        # Only update the network every NUM_STEPS_FOR_UPDATE time steps.\n",
    "        update = utils.check_update_conditions(t, NUM_STEPS_FOR_UPDATE, memory_buffer)\n",
    "        \n",
    "        if update:\n",
    "            # Sample random mini-batch of experience tuples (S,A,R,S') from D\n",
    "            experiences = utils.get_experiences(memory_buffer)\n",
    "            \n",
    "            # Set the y targets, perform a gradient descent step,\n",
    "            # and update the network weights.\n",
    "            agent_learn(experiences, GAMMA)\n",
    "        \n",
    "        state = next_state.copy()\n",
    "        total_points += reward\n",
    "        \n",
    "        if done:\n",
    "            break\n",
    "            \n",
    "    total_point_history.append(total_points)\n",
    "    av_latest_points = np.mean(total_point_history[-num_p_av:])\n",
    "    \n",
    "    # Update the ε value\n",
    "    epsilon = utils.get_new_eps(epsilon)\n",
    "\n",
    "    print(f\"\\rEpisode {i+1} | Total point average of the last {num_p_av} episodes: {av_latest_points:.2f}\", end=\"\")\n",
    "\n",
    "    if (i+1) % num_p_av == 0:\n",
    "        print(f\"\\rEpisode {i+1} | Total point average of the last {num_p_av} episodes: {av_latest_points:.2f}\")\n",
    "\n",
    "    # We will consider that the environment is solved if we get an\n",
    "    # average of 200 points in the last 100 episodes.\n",
    "    if av_latest_points >= 200.0:\n",
    "        print(f\"\\n\\nEnvironment solved in {i+1} episodes!\")\n",
    "        q_network.save('lunar_lander_model.h5')\n",
    "        break\n",
    "        \n",
    "tot_time = time.time() - start\n",
    "\n",
    "print(f\"\\nTotal Runtime: {tot_time:.2f} s ({(tot_time/60):.2f} min)\")"
   ]
  },
  {
   "cell_type": "markdown",
   "metadata": {},
   "source": [
    "We can plot the total point history along with the moving average to see how our agent improved during training. If you want to know about the different plotting options available in the `utils.plot_history` function we encourage you to take a look at the `utils` module."
   ]
  },
  {
   "cell_type": "code",
   "execution_count": 27,
   "metadata": {
    "deletable": false,
    "editable": false,
    "id": "E_EUXxurfe8m",
    "scrolled": false
   },
   "outputs": [
    {
     "data": {
      "image/png": "[encoded data removed]",
      "text/plain": [
       "<Figure size 720x504 with 1 Axes>"
      ]
     },
     "metadata": {},
     "output_type": "display_data"
    }
   ],
   "source": [
    "# Plot the total point history along with the moving average\n",
    "utils.plot_history(total_point_history)"
   ]
  },
  {
   "cell_type": "markdown",
   "metadata": {
    "id": "c_xwgaX5MnYt"
   },
   "source": [
    "<a name=\"10\"></a>\n",
    "## 10 - See the Trained Agent In Action\n",
    "\n",
    "Now that we have trained our agent, we can see it in action. We will use the `utils.create_video` function to create a video of our agent interacting with the environment using the trained $Q$-Network. The `utils.create_video` function uses the `imageio` library to create the video. This library produces some warnings that can be distracting, so, to suppress these warnings we run the code below."
   ]
  },
  {
   "cell_type": "code",
   "execution_count": 28,
   "metadata": {
    "deletable": false,
    "editable": false
   },
   "outputs": [],
   "source": [
    "# Suppress warnings from imageio\n",
    "import logging\n",
    "logging.getLogger().setLevel(logging.ERROR)"
   ]
  },
  {
   "cell_type": "markdown",
   "metadata": {},
   "source": [
    "In the cell below we create a video of our agent interacting with the Lunar Lander environment using the trained `q_network`. The video is saved to the `videos` folder with the given `filename`. We use the `utils.embed_mp4` function to embed the video in the Jupyter Notebook so that we can see it here directly without having to download it.\n",
    "\n",
    "We should note that since the lunar lander starts with a random initial force applied to its center of mass, every time you run the cell below you will see a different video. If the agent was trained properly, it should be able to land the lunar lander in the landing pad every time, regardless of the initial force applied to its center of mass."
   ]
  },
  {
   "cell_type": "code",
   "execution_count": 29,
   "metadata": {
    "deletable": false,
    "editable": false,
    "id": "3Ttb_zLeJKiG"
   },
   "outputs": [
    {
     "data": {
      "text/html": [
       "\n",
       "    <video width=\"840\" height=\"480\" controls>\n",
       "    <source src=\"data:video/mp4;base64,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\" type=\"video/mp4\">\n",
       "    Your browser does not support the video tag.\n",
       "    </video>"
      ],
      "text/plain": [
       "<IPython.core.display.HTML object>"
      ]
     },
     "execution_count": 29,
     "metadata": {},
     "output_type": "execute_result"
    }
   ],
   "source": [
    "filename = \"./videos/lunar_lander.mp4\"\n",
    "\n",
    "utils.create_video(filename, env, q_network)\n",
    "utils.embed_mp4(filename)"
   ]
  },
  {
   "cell_type": "markdown",
   "metadata": {},
   "source": [
    "<a name=\"11\"></a>\n",
    "## 11 - Congratulations!\n",
    "\n",
    "You have successfully used Deep Q-Learning with Experience Replay to train an agent to land a lunar lander safely on a landing pad on the surface of the moon. Congratulations!"
   ]
  },
  {
   "cell_type": "markdown",
   "metadata": {},
   "source": [
    "<a name=\"12\"></a>\n",
    "## 12 - References\n",
    "\n",
    "If you would like to learn more about Deep Q-Learning, we recommend you check out the following papers.\n",
    "\n",
    "\n",
    "* Mnih, V., Kavukcuoglu, K., Silver, D. et al. Human-level control through deep reinforcement learning. Nature 518, 529–533 (2015).\n",
    "\n",
    "\n",
    "* Lillicrap, T. P., Hunt, J. J., Pritzel, A., et al. Continuous Control with Deep Reinforcement Learning. ICLR (2016).\n",
    "\n",
    "\n",
    "* Mnih, V., Kavukcuoglu, K., Silver, D. et al. Playing Atari with Deep Reinforcement Learning. arXiv e-prints.  arXiv:1312.5602 (2013)."
   ]
  },
  {
   "cell_type": "markdown",
   "metadata": {},
   "source": [
    "<details>\n",
    "  <summary><font size=\"2\" color=\"darkgreen\"><b>Please click here if you want to experiment with any of the non-graded code.</b></font></summary>\n",
    "    <p><i><b>Important Note: Please only do this when you've already passed the assignment to avoid problems with the autograder.</b></i>\n",
    "    <ol>\n",
    "        <li> On the notebook’s menu, click “View” > “Cell Toolbar” > “Edit Metadata”</li>\n",
    "        <li> Hit the “Edit Metadata” button next to the code cell which you want to lock/unlock</li>\n",
    "        <li> Set the attribute value for “editable” to:\n",
    "            <ul>\n",
    "                <li> “true” if you want to unlock it </li>\n",
    "                <li> “false” if you want to lock it </li>\n",
    "            </ul>\n",
    "        </li>\n",
    "        <li> On the notebook’s menu, click “View” > “Cell Toolbar” > “None” </li>\n",
    "    </ol>\n",
    "    <p> Here's a short demo of how to do the steps above: \n",
    "        <br>\n",
    "        <img src=\"https://drive.google.com/uc?export=view&id=14Xy_Mb17CZVgzVAgq7NCjMVBvSae3xO1\" align=\"center\" alt=\"unlock_cells.gif\">\n",
    "</details>"
   ]
  }
 ],
 "metadata": {
  "accelerator": "GPU",
  "colab": {
   "collapsed_sections": [],
   "name": "TensorFlow - Lunar Lander.ipynb",
   "provenance": []
  },
  "kernelspec": {
   "display_name": "Python 3",
   "language": "python",
   "name": "python3"
  },
  "language_info": {
   "codemirror_mode": {
    "name": "ipython",
    "version": 3
   },
   "file_extension": ".py",
   "mimetype": "text/x-python",
   "name": "python",
   "nbconvert_exporter": "python",
   "pygments_lexer": "ipython3",
   "version": "3.7.6"
  }
 },
 "nbformat": 4,
 "nbformat_minor": 1
}
